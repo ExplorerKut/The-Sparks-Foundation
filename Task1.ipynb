{
  "nbformat": 4,
  "nbformat_minor": 0,
  "metadata": {
    "colab": {
      "name": "Task1",
      "provenance": [],
      "collapsed_sections": []
    },
    "kernelspec": {
      "name": "python3",
      "display_name": "Python 3"
    }
  },
  "cells": [
    {
      "cell_type": "markdown",
      "metadata": {
        "id": "OwJKZulvZUQ2"
      },
      "source": [
        "#**Name: Kutbuddin M Ambawala**\r\n",
        "##**Task1: Prediction using supervised Machine Learning**\r\n",
        "###**GRIP@ The Sparks Foundation**\r\n",
        "####**The task required us to predict the percentage score, a student could score based on the number of hours studied, using a single variable linear regression model**\r\n"
      ]
    },
    {
      "cell_type": "markdown",
      "metadata": {
        "id": "3FvGcrr0e4_-"
      },
      "source": [
        "##**Importing the required Libraries**"
      ]
    },
    {
      "cell_type": "code",
      "metadata": {
        "id": "tn_-JMd0ZM-s"
      },
      "source": [
        "import pandas as pd\r\n",
        "import numpy as np\r\n",
        "from sklearn import linear_model\r\n",
        "from matplotlib import pyplot as plt"
      ],
      "execution_count": null,
      "outputs": []
    },
    {
      "cell_type": "markdown",
      "metadata": {
        "id": "_KV55ba_hpBr"
      },
      "source": [
        "##**Loading The dataset from the source.**"
      ]
    },
    {
      "cell_type": "code",
      "metadata": {
        "id": "O595ioUyWoJB"
      },
      "source": [
        "#Reading and storing the data in a dataframe\r\n",
        "data_students=pd.read_csv(\"https://raw.githubusercontent.com/AdiPersonalWorks/Random/master/student_scores%20-%20student_scores.csv\")"
      ],
      "execution_count": null,
      "outputs": []
    },
    {
      "cell_type": "code",
      "metadata": {
        "colab": {
          "base_uri": "https://localhost:8080/"
        },
        "id": "yF54rvLa_5JZ",
        "outputId": "103e1bf1-e86b-423d-9874-04cb542ad7ad"
      },
      "source": [
        "print(data_students)"
      ],
      "execution_count": null,
      "outputs": [
        {
          "output_type": "stream",
          "text": [
            "    Hours  Scores\n",
            "0     2.5      21\n",
            "1     5.1      47\n",
            "2     3.2      27\n",
            "3     8.5      75\n",
            "4     3.5      30\n",
            "5     1.5      20\n",
            "6     9.2      88\n",
            "7     5.5      60\n",
            "8     8.3      81\n",
            "9     2.7      25\n",
            "10    7.7      85\n",
            "11    5.9      62\n",
            "12    4.5      41\n",
            "13    3.3      42\n",
            "14    1.1      17\n",
            "15    8.9      95\n",
            "16    2.5      30\n",
            "17    1.9      24\n",
            "18    6.1      67\n",
            "19    7.4      69\n",
            "20    2.7      30\n",
            "21    4.8      54\n",
            "22    3.8      35\n",
            "23    6.9      76\n",
            "24    7.8      86\n"
          ],
          "name": "stdout"
        }
      ]
    },
    {
      "cell_type": "code",
      "metadata": {
        "colab": {
          "base_uri": "https://localhost:8080/",
          "height": 195
        },
        "id": "mwUZEhwxAAnc",
        "outputId": "e8c9819b-952f-4dc4-e0cf-37d657496eff"
      },
      "source": [
        "#Going throught the first five values\r\n",
        "data_students.head()"
      ],
      "execution_count": null,
      "outputs": [
        {
          "output_type": "execute_result",
          "data": {
            "text/html": [
              "<div>\n",
              "<style scoped>\n",
              "    .dataframe tbody tr th:only-of-type {\n",
              "        vertical-align: middle;\n",
              "    }\n",
              "\n",
              "    .dataframe tbody tr th {\n",
              "        vertical-align: top;\n",
              "    }\n",
              "\n",
              "    .dataframe thead th {\n",
              "        text-align: right;\n",
              "    }\n",
              "</style>\n",
              "<table border=\"1\" class=\"dataframe\">\n",
              "  <thead>\n",
              "    <tr style=\"text-align: right;\">\n",
              "      <th></th>\n",
              "      <th>Hours</th>\n",
              "      <th>Scores</th>\n",
              "    </tr>\n",
              "  </thead>\n",
              "  <tbody>\n",
              "    <tr>\n",
              "      <th>0</th>\n",
              "      <td>2.5</td>\n",
              "      <td>21</td>\n",
              "    </tr>\n",
              "    <tr>\n",
              "      <th>1</th>\n",
              "      <td>5.1</td>\n",
              "      <td>47</td>\n",
              "    </tr>\n",
              "    <tr>\n",
              "      <th>2</th>\n",
              "      <td>3.2</td>\n",
              "      <td>27</td>\n",
              "    </tr>\n",
              "    <tr>\n",
              "      <th>3</th>\n",
              "      <td>8.5</td>\n",
              "      <td>75</td>\n",
              "    </tr>\n",
              "    <tr>\n",
              "      <th>4</th>\n",
              "      <td>3.5</td>\n",
              "      <td>30</td>\n",
              "    </tr>\n",
              "  </tbody>\n",
              "</table>\n",
              "</div>"
            ],
            "text/plain": [
              "   Hours  Scores\n",
              "0    2.5      21\n",
              "1    5.1      47\n",
              "2    3.2      27\n",
              "3    8.5      75\n",
              "4    3.5      30"
            ]
          },
          "metadata": {
            "tags": []
          },
          "execution_count": 46
        }
      ]
    },
    {
      "cell_type": "code",
      "metadata": {
        "colab": {
          "base_uri": "https://localhost:8080/"
        },
        "id": "yjACc1oTWzai",
        "outputId": "acfac763-a534-4ba9-84ff-d2d4443370fb"
      },
      "source": [
        "#checking the datatype and number of entries\r\n",
        "data_students.info()"
      ],
      "execution_count": null,
      "outputs": [
        {
          "output_type": "stream",
          "text": [
            "<class 'pandas.core.frame.DataFrame'>\n",
            "RangeIndex: 25 entries, 0 to 24\n",
            "Data columns (total 2 columns):\n",
            " #   Column  Non-Null Count  Dtype  \n",
            "---  ------  --------------  -----  \n",
            " 0   Hours   25 non-null     float64\n",
            " 1   Scores  25 non-null     int64  \n",
            "dtypes: float64(1), int64(1)\n",
            "memory usage: 528.0 bytes\n"
          ],
          "name": "stdout"
        }
      ]
    },
    {
      "cell_type": "markdown",
      "metadata": {
        "id": "8qRLgSd0inBS"
      },
      "source": [
        "##**Visualizing the data**"
      ]
    },
    {
      "cell_type": "code",
      "metadata": {
        "colab": {
          "base_uri": "https://localhost:8080/",
          "height": 367
        },
        "id": "w4FnEJskdEAd",
        "outputId": "5400134a-d921-44ac-e000-1296dd66663b"
      },
      "source": [
        "# We try to find a relation between the Hours Studied and Marks Obtained through visualization\r\n",
        "plt.figure(figsize=(10,5))\r\n",
        "plt.scatter(data_students[\"Hours\"],data_students[\"Scores\"],marker=\"o\")\r\n",
        "plt.xlabel(\"Hours\")\r\n",
        "plt.ylabel(\"Scores\")\r\n",
        "plt.title(\"Hours and Scores\")"
      ],
      "execution_count": null,
      "outputs": [
        {
          "output_type": "execute_result",
          "data": {
            "text/plain": [
              "Text(0.5, 1.0, 'Hours and Scores')"
            ]
          },
          "metadata": {
            "tags": []
          },
          "execution_count": 48
        },
        {
          "output_type": "display_data",
          "data": {
            "image/png": "[encoded data removed]",
            "text/plain": [
              "<Figure size 720x360 with 1 Axes>"
            ]
          },
          "metadata": {
            "tags": [],
            "needs_background": "light"
          }
        }
      ]
    },
    {
      "cell_type": "code",
      "metadata": {
        "id": "QbAs_bXmWvsZ",
        "colab": {
          "base_uri": "https://localhost:8080/"
        },
        "outputId": "89c94428-8297-48b5-e2c9-798eb1ce1018"
      },
      "source": [
        "x_hours=data_students.iloc[:,:-1].values\r\n",
        "print(x_hours,end=\"\\n\")"
      ],
      "execution_count": null,
      "outputs": [
        {
          "output_type": "stream",
          "text": [
            "[[2.5]\n",
            " [5.1]\n",
            " [3.2]\n",
            " [8.5]\n",
            " [3.5]\n",
            " [1.5]\n",
            " [9.2]\n",
            " [5.5]\n",
            " [8.3]\n",
            " [2.7]\n",
            " [7.7]\n",
            " [5.9]\n",
            " [4.5]\n",
            " [3.3]\n",
            " [1.1]\n",
            " [8.9]\n",
            " [2.5]\n",
            " [1.9]\n",
            " [6.1]\n",
            " [7.4]\n",
            " [2.7]\n",
            " [4.8]\n",
            " [3.8]\n",
            " [6.9]\n",
            " [7.8]]\n"
          ],
          "name": "stdout"
        }
      ]
    },
    {
      "cell_type": "code",
      "metadata": {
        "colab": {
          "base_uri": "https://localhost:8080/"
        },
        "id": "dkvXVXJ2AlFp",
        "outputId": "67d766f5-968e-4fd5-b8bb-1220d19d59c6"
      },
      "source": [
        "y_marks=data_students.iloc[:,1].values\r\n",
        "print(y_marks)"
      ],
      "execution_count": null,
      "outputs": [
        {
          "output_type": "stream",
          "text": [
            "[21 47 27 75 30 20 88 60 81 25 85 62 41 42 17 95 30 24 67 69 30 54 35 76\n",
            " 86]\n"
          ],
          "name": "stdout"
        }
      ]
    },
    {
      "cell_type": "markdown",
      "metadata": {
        "id": "2qRazl7smgkP"
      },
      "source": [
        "##**Training the model**\r\n",
        "####**We split the data into training and test sets following 80/20 ratio**"
      ]
    },
    {
      "cell_type": "code",
      "metadata": {
        "id": "JaKqjguUBYzV"
      },
      "source": [
        "from sklearn import model_selection\r\n",
        "x_hours_train,x_hours_test,y_marks_train,y_marks_test=model_selection.train_test_split(x_hours,y_marks,test_size=0.2,random_state=0)"
      ],
      "execution_count": null,
      "outputs": []
    },
    {
      "cell_type": "code",
      "metadata": {
        "colab": {
          "base_uri": "https://localhost:8080/"
        },
        "id": "JzDs7dQXmhDh",
        "outputId": "c7e8ee64-90f4-4c17-ca5b-6fb2561164f6"
      },
      "source": [
        "##fitting the data into the model\r\n",
        "linear_regression=linear_model.LinearRegression()\r\n",
        "linear_regression.fit(x_hours,y_marks)"
      ],
      "execution_count": null,
      "outputs": [
        {
          "output_type": "execute_result",
          "data": {
            "text/plain": [
              "LinearRegression(copy_X=True, fit_intercept=True, n_jobs=None, normalize=False)"
            ]
          },
          "metadata": {
            "tags": []
          },
          "execution_count": 52
        }
      ]
    },
    {
      "cell_type": "code",
      "metadata": {
        "colab": {
          "base_uri": "https://localhost:8080/",
          "height": 312
        },
        "id": "irzNZfSSDIZv",
        "outputId": "0d77badb-4086-4759-d53b-8b5b66122741"
      },
      "source": [
        "#plotting the regression line obtained throuh the model\r\n",
        "regression_line=linear_regression.coef_*x_hours +linear_regression.intercept_\r\n",
        "plt.scatter(x_hours,y_marks,color=\"blue\",marker=\"+\")\r\n",
        "plt.plot(x_hours,regression_line,color=\"red\")\r\n",
        "plt.title(\"Line of Regression\")\r\n",
        "plt.xlabel(\"Hours\")\r\n",
        "plt.ylabel(\"Scores\")"
      ],
      "execution_count": null,
      "outputs": [
        {
          "output_type": "execute_result",
          "data": {
            "text/plain": [
              "Text(0, 0.5, 'Scores')"
            ]
          },
          "metadata": {
            "tags": []
          },
          "execution_count": 64
        },
        {
          "output_type": "display_data",
          "data": {
            "image/png": "[encoded data removed]",
            "text/plain": [
              "<Figure size 432x288 with 1 Axes>"
            ]
          },
          "metadata": {
            "tags": [],
            "needs_background": "light"
          }
        }
      ]
    },
    {
      "cell_type": "code",
      "metadata": {
        "colab": {
          "base_uri": "https://localhost:8080/",
          "height": 312
        },
        "id": "1Iw2BBp-9imt",
        "outputId": "6988e90c-55bb-42fb-a3e4-4958088d0d87"
      },
      "source": [
        "y_scores_predicted=linear_regression.predict(x_hours_test)#The predicted scores for test data hours\r\n",
        "plt.scatter(x_hours_test,y_marks_test,color=\"blue\",marker=\"x\")\r\n",
        "plt.plot(x_hours_test,y_scores_predicted,color=\"red\")\r\n",
        "plt.title(\"Line of Regression in the Test Data\")\r\n",
        "plt.xlabel(\"Hours\")\r\n",
        "plt.ylabel(\"Scores\")"
      ],
      "execution_count": null,
      "outputs": [
        {
          "output_type": "execute_result",
          "data": {
            "text/plain": [
              "Text(0, 0.5, 'Scores')"
            ]
          },
          "metadata": {
            "tags": []
          },
          "execution_count": 66
        },
        {
          "output_type": "display_data",
          "data": {
            "image/png": "[encoded data removed]",
            "text/plain": [
              "<Figure size 432x288 with 1 Axes>"
            ]
          },
          "metadata": {
            "tags": [],
            "needs_background": "light"
          }
        }
      ]
    },
    {
      "cell_type": "markdown",
      "metadata": {
        "id": "oFKYZXGMJH95"
      },
      "source": [
        "###**Actual Result and Predicted Result**"
      ]
    },
    {
      "cell_type": "code",
      "metadata": {
        "colab": {
          "base_uri": "https://localhost:8080/",
          "height": 195
        },
        "id": "OcyTIjsiEZY0",
        "outputId": "886bd475-e460-49fb-a926-6574f40e0f4a"
      },
      "source": [
        "actual_predicted=pd.DataFrame({'Actual':y_marks_test,'Predicted':y_scores_predicted})\r\n",
        "actual_predicted"
      ],
      "execution_count": null,
      "outputs": [
        {
          "output_type": "execute_result",
          "data": {
            "text/html": [
              "<div>\n",
              "<style scoped>\n",
              "    .dataframe tbody tr th:only-of-type {\n",
              "        vertical-align: middle;\n",
              "    }\n",
              "\n",
              "    .dataframe tbody tr th {\n",
              "        vertical-align: top;\n",
              "    }\n",
              "\n",
              "    .dataframe thead th {\n",
              "        text-align: right;\n",
              "    }\n",
              "</style>\n",
              "<table border=\"1\" class=\"dataframe\">\n",
              "  <thead>\n",
              "    <tr style=\"text-align: right;\">\n",
              "      <th></th>\n",
              "      <th>Actual</th>\n",
              "      <th>Predicted</th>\n",
              "    </tr>\n",
              "  </thead>\n",
              "  <tbody>\n",
              "    <tr>\n",
              "      <th>0</th>\n",
              "      <td>20</td>\n",
              "      <td>17.147378</td>\n",
              "    </tr>\n",
              "    <tr>\n",
              "      <th>1</th>\n",
              "      <td>27</td>\n",
              "      <td>33.766244</td>\n",
              "    </tr>\n",
              "    <tr>\n",
              "      <th>2</th>\n",
              "      <td>69</td>\n",
              "      <td>74.824618</td>\n",
              "    </tr>\n",
              "    <tr>\n",
              "      <th>3</th>\n",
              "      <td>30</td>\n",
              "      <td>26.923182</td>\n",
              "    </tr>\n",
              "    <tr>\n",
              "      <th>4</th>\n",
              "      <td>62</td>\n",
              "      <td>60.160913</td>\n",
              "    </tr>\n",
              "  </tbody>\n",
              "</table>\n",
              "</div>"
            ],
            "text/plain": [
              "   Actual  Predicted\n",
              "0      20  17.147378\n",
              "1      27  33.766244\n",
              "2      69  74.824618\n",
              "3      30  26.923182\n",
              "4      62  60.160913"
            ]
          },
          "metadata": {
            "tags": []
          },
          "execution_count": 58
        }
      ]
    },
    {
      "cell_type": "code",
      "metadata": {
        "colab": {
          "base_uri": "https://localhost:8080/"
        },
        "id": "77ChhWlxMqwO",
        "outputId": "f6d809a2-e708-42d1-dbd3-89aff576cef0"
      },
      "source": [
        "#The training and testing score is found\r\n",
        "linear_regression.score(x_hours_train,y_marks_train)\r\n",
        "linear_regression.score(x_hours_test,y_marks_test)"
      ],
      "execution_count": null,
      "outputs": [
        {
          "output_type": "execute_result",
          "data": {
            "text/plain": [
              "0.9491748734859172"
            ]
          },
          "metadata": {
            "tags": []
          },
          "execution_count": 59
        }
      ]
    },
    {
      "cell_type": "markdown",
      "metadata": {
        "id": "45K_2IURk7k2"
      },
      "source": [
        "####**Making a custom prediction on given hours**"
      ]
    },
    {
      "cell_type": "code",
      "metadata": {
        "colab": {
          "base_uri": "https://localhost:8080/"
        },
        "id": "PsCsCN7BNmlu",
        "outputId": "293d02d7-bd4a-4f98-e5b9-15f2b814e373"
      },
      "source": [
        "hours=9.25\r\n",
        "test=np.array([hours]).reshape(-1,1)\r\n",
        "score_predict=linear_regression.predict(test)\r\n",
        "print(f\"Given hours: {hours}\")\r\n",
        "print(f\"The predicted score for the given hours comes out to be: {score_predict}\")"
      ],
      "execution_count": null,
      "outputs": [
        {
          "output_type": "stream",
          "text": [
            "Given hours: 9.25\n",
            "The predicted score for the given hours comes out to be: [92.90985477]\n"
          ],
          "name": "stdout"
        }
      ]
    },
    {
      "cell_type": "markdown",
      "metadata": {
        "id": "Ye7oMwhjlMEg"
      },
      "source": [
        "####**Evaluating the model**"
      ]
    },
    {
      "cell_type": "code",
      "metadata": {
        "colab": {
          "base_uri": "https://localhost:8080/"
        },
        "id": "oy59ONAZPEU8",
        "outputId": "e50cd097-4eeb-420a-ab30-233033fe6ed6"
      },
      "source": [
        "from sklearn import metrics  \r\n",
        "# We find the particular errors to find out the accuracy of the algorithm\r\n",
        "print('Mean Absolute Error:',metrics.mean_absolute_error(y_marks_test, y_scores_predicted)) \r\n",
        "print('Mean Squared Error:', metrics.mean_squared_error(y_marks_test, y_scores_predicted))\r\n",
        "print('Root Mean Squared Error:', np.sqrt(metrics.mean_squared_error(y_marks_test, y_scores_predicted)))\r\n",
        "print('R-2:', metrics.r2_score(y_marks_test, y_scores_predicted))"
      ],
      "execution_count": null,
      "outputs": [
        {
          "output_type": "stream",
          "text": [
            "Mean Absolute Error: 4.071877793635605\n",
            "Mean Squared Error: 20.138948129940175\n",
            "Root Mean Squared Error: 4.487643939746131\n",
            "R-2: 0.9491748734859172\n"
          ],
          "name": "stdout"
        }
      ]
    },
    {
      "cell_type": "markdown",
      "metadata": {
        "id": "_3j9t3Silu__"
      },
      "source": [
        "####**Thank You**"
      ]
    }
  ]
}